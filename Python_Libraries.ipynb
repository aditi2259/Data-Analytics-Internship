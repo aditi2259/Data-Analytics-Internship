{
  "nbformat": 4,
  "nbformat_minor": 0,
  "metadata": {
    "colab": {
      "provenance": [],
      "authorship_tag": "ABX9TyPBW+Io+55f+7/8zVTCH0dN",
      "include_colab_link": true
    },
    "kernelspec": {
      "name": "python3",
      "display_name": "Python 3"
    },
    "language_info": {
      "name": "python"
    }
  },
  "cells": [
    {
      "cell_type": "markdown",
      "metadata": {
        "id": "view-in-github",
        "colab_type": "text"
      },
      "source": [
        "<a href=\"https://colab.research.google.com/github/aditi2259/Data-Analytics-Internship/blob/main/Python_Libraries.ipynb\" target=\"_parent\"><img src=\"https://colab.research.google.com/assets/colab-badge.svg\" alt=\"Open In Colab\"/></a>"
      ]
    },
    {
      "cell_type": "code",
      "execution_count": 1,
      "metadata": {
        "id": "aEfR-GZhvWyB"
      },
      "outputs": [],
      "source": [
        "import numpy as np\n",
        "import pandas as pd\n",
        "import scipy.stats as stats\n",
        "import statsmodels.api as sm\n",
        "from statsmodels.formula.api import ols"
      ]
    },
    {
      "cell_type": "code",
      "source": [
        "# Example dataset for t-test\n",
        "data_group1 = [85, 86, 88, 75, 78, 94, 98, 79, 71, 80]\n",
        "\n",
        "data_group2 = [72, 67, 79, 80, 83, 75, 77, 81, 68, 85]"
      ],
      "metadata": {
        "id": "4jWat2a8wB9X"
      },
      "execution_count": 2,
      "outputs": []
    },
    {
      "cell_type": "code",
      "source": [
        "data = pd.DataFrame({\n",
        "'Hours_Studied': [1, 2, 3, 4, 5, 6, 7, 8, 9, 10],\n",
        "'Scores': [35, 50, 55, 65, 70, 80, 85, 90, 95, 100]\n",
        "})"
      ],
      "metadata": {
        "id": "hambFkWLwHW5"
      },
      "execution_count": 3,
      "outputs": []
    },
    {
      "cell_type": "code",
      "source": [
        "t_statistic, p_value = stats.ttest_ind(data_group1, data_group2)\n",
        "print(\"t-statistic:\", t_statistic)\n",
        "print(\"p-value:\", p_value)"
      ],
      "metadata": {
        "colab": {
          "base_uri": "https://localhost:8080/"
        },
        "id": "u6r0xDHOwLYZ",
        "outputId": "bd191fd6-924d-478a-f209-c7ffccc10273"
      },
      "execution_count": 4,
      "outputs": [
        {
          "output_type": "stream",
          "name": "stdout",
          "text": [
            "t-statistic: 2.031962283235235\n",
            "p-value: 0.05718525096328951\n"
          ]
        }
      ]
    },
    {
      "cell_type": "code",
      "source": [
        "# Adding a constant to the model (intercept term)\n",
        "X = sm.add_constant(data['Hours_Studied'])\n",
        "y = data['Scores']"
      ],
      "metadata": {
        "id": "M2ruI-y2wWHK"
      },
      "execution_count": 5,
      "outputs": []
    },
    {
      "cell_type": "code",
      "source": [
        "# Fitting the regression model\n",
        "model = sm.OLS(y, X).fit()"
      ],
      "metadata": {
        "id": "wgDZ8TWlwXkF"
      },
      "execution_count": 6,
      "outputs": []
    },
    {
      "cell_type": "code",
      "source": [
        "# Printing the model summary\n",
        "print(model.summary())"
      ],
      "metadata": {
        "colab": {
          "base_uri": "https://localhost:8080/"
        },
        "id": "65M4OKDTwbp6",
        "outputId": "a7f1906a-efd5-40f1-c838-354c15eeda36"
      },
      "execution_count": 7,
      "outputs": [
        {
          "output_type": "stream",
          "name": "stdout",
          "text": [
            "                            OLS Regression Results                            \n",
            "==============================================================================\n",
            "Dep. Variable:                 Scores   R-squared:                       0.978\n",
            "Model:                            OLS   Adj. R-squared:                  0.975\n",
            "Method:                 Least Squares   F-statistic:                     354.3\n",
            "Date:                Mon, 05 Aug 2024   Prob (F-statistic):           6.56e-08\n",
            "Time:                        13:37:00   Log-Likelihood:                -25.159\n",
            "No. Observations:                  10   AIC:                             54.32\n",
            "Df Residuals:                       8   BIC:                             54.92\n",
            "Df Model:                           1                                         \n",
            "Covariance Type:            nonrobust                                         \n",
            "=================================================================================\n",
            "                    coef    std err          t      P>|t|      [0.025      0.975]\n",
            "---------------------------------------------------------------------------------\n",
            "const            34.3333      2.287     15.010      0.000      29.059      39.608\n",
            "Hours_Studied     6.9394      0.369     18.824      0.000       6.089       7.790\n",
            "==============================================================================\n",
            "Omnibus:                        1.871   Durbin-Watson:                   1.185\n",
            "Prob(Omnibus):                  0.392   Jarque-Bera (JB):                0.966\n",
            "Skew:                          -0.739   Prob(JB):                        0.617\n",
            "Kurtosis:                       2.631   Cond. No.                         13.7\n",
            "==============================================================================\n",
            "\n",
            "Notes:\n",
            "[1] Standard Errors assume that the covariance matrix of the errors is correctly specified.\n"
          ]
        },
        {
          "output_type": "stream",
          "name": "stderr",
          "text": [
            "/usr/local/lib/python3.10/dist-packages/scipy/stats/_axis_nan_policy.py:531: UserWarning: kurtosistest only valid for n>=20 ... continuing anyway, n=10\n",
            "  res = hypotest_fun_out(*samples, **kwds)\n"
          ]
        }
      ]
    },
    {
      "cell_type": "markdown",
      "source": [
        "ANOVA\n"
      ],
      "metadata": {
        "id": "Y4oRjdGPwqtb"
      }
    },
    {
      "cell_type": "code",
      "source": [
        "# Example dataset for ANOVA\n",
        "df_anova = pd.DataFrame({\n",
        "'Treatment': np.repeat(['A', 'B', 'C'], 8),\n",
        "'Response': [24, 27, 23, 30, 21, 23, 27, 25, 30, 31, 29, 34, 28, 29, 30, 31, 19, 23, 20, 25, 22, 21,\n",
        "24, 26]\n",
        "})"
      ],
      "metadata": {
        "id": "inwKZaxxwqK2"
      },
      "execution_count": 8,
      "outputs": []
    },
    {
      "cell_type": "code",
      "source": [
        "# Fitting the ANOVA model\n",
        "model_anova = ols('Response ~ C(Treatment)', data=df_anova).fit()\n",
        "anova_table = sm.stats.anova_lm(model_anova, typ=2)"
      ],
      "metadata": {
        "id": "vbMvK0GWwvas"
      },
      "execution_count": 9,
      "outputs": []
    },
    {
      "cell_type": "code",
      "source": [
        "# Printing the ANOVA table\n",
        "print(anova_table)"
      ],
      "metadata": {
        "colab": {
          "base_uri": "https://localhost:8080/"
        },
        "id": "ZdDnFIrAw9W2",
        "outputId": "e57c1778-3ae4-4059-f1bd-18db12cef2f1"
      },
      "execution_count": 11,
      "outputs": [
        {
          "output_type": "stream",
          "name": "stdout",
          "text": [
            "                  sum_sq    df          F    PR(>F)\n",
            "C(Treatment)  250.333333   2.0  21.283401  0.000009\n",
            "Residual      123.500000  21.0        NaN       NaN\n"
          ]
        }
      ]
    }
  ]
}