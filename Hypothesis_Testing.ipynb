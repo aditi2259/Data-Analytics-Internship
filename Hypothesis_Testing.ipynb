{
  "nbformat": 4,
  "nbformat_minor": 0,
  "metadata": {
    "colab": {
      "provenance": [],
      "authorship_tag": "ABX9TyMM0V0QsZY4G6jzjuaI7CPj",
      "include_colab_link": true
    },
    "kernelspec": {
      "name": "python3",
      "display_name": "Python 3"
    },
    "language_info": {
      "name": "python"
    }
  },
  "cells": [
    {
      "cell_type": "markdown",
      "metadata": {
        "id": "view-in-github",
        "colab_type": "text"
      },
      "source": [
        "<a href=\"https://colab.research.google.com/github/aditi2259/Data-Analytics-Internship/blob/main/Hypothesis_Testing.ipynb\" target=\"_parent\"><img src=\"https://colab.research.google.com/assets/colab-badge.svg\" alt=\"Open In Colab\"/></a>"
      ]
    },
    {
      "cell_type": "code",
      "execution_count": 7,
      "metadata": {
        "id": "VGQdz2fs21y_"
      },
      "outputs": [],
      "source": [
        "import numpy as np\n",
        "import pandas as pd\n",
        "from scipy import stats"
      ]
    },
    {
      "cell_type": "code",
      "source": [
        "data_group1 = [85, 86, 88, 75, 78, 94, 98, 79, 71, 80]\n",
        "data_group2 = [72, 67, 79, 80, 83, 75, 77, 81, 68, 85]"
      ],
      "metadata": {
        "id": "eKpwGFFV4Tba"
      },
      "execution_count": 8,
      "outputs": []
    },
    {
      "cell_type": "code",
      "source": [
        "data = {'Preference': ['Like', 'Dislike'],\n",
        "'Male': [20, 30],\n",
        "'Female': [25, 25]}\n",
        "df = pd.DataFrame(data)"
      ],
      "metadata": {
        "id": "2ioqtdao4nPn"
      },
      "execution_count": 9,
      "outputs": []
    },
    {
      "cell_type": "code",
      "source": [
        "t_statistic, p_value = stats.ttest_ind(data_group1, data_group2)\n",
        "print(\"t-statistic:\", t_statistic)\n",
        "print(\"p-value:\", p_value)"
      ],
      "metadata": {
        "colab": {
          "base_uri": "https://localhost:8080/"
        },
        "id": "QcPQz2hj4r6G",
        "outputId": "d7ac7677-eaa0-4041-86bd-6050d1564754"
      },
      "execution_count": 10,
      "outputs": [
        {
          "output_type": "stream",
          "name": "stdout",
          "text": [
            "t-statistic: 2.031962283235235\n",
            "p-value: 0.05718525096328951\n"
          ]
        }
      ]
    },
    {
      "cell_type": "code",
      "source": [
        "contingency_table = df.set_index('Preference').T\n",
        "print(contingency_table)"
      ],
      "metadata": {
        "colab": {
          "base_uri": "https://localhost:8080/"
        },
        "id": "sJ6jHnzN7d9w",
        "outputId": "bd71b7cd-b3bf-42c3-8ee1-2d8e711e5db2"
      },
      "execution_count": 11,
      "outputs": [
        {
          "output_type": "stream",
          "name": "stdout",
          "text": [
            "Preference  Like  Dislike\n",
            "Male          20       30\n",
            "Female        25       25\n"
          ]
        }
      ]
    },
    {
      "cell_type": "code",
      "source": [
        "chi2_stat, p_val, dof, ex = stats.chi2_contingency(contingency_table)\n",
        "print(\"Chi2 Stat:\", chi2_stat)\n",
        "print(\"p-value:\", p_val)"
      ],
      "metadata": {
        "colab": {
          "base_uri": "https://localhost:8080/"
        },
        "id": "RhQTEoLZ7rl6",
        "outputId": "5e916ef1-a57e-4958-ec17-8243d167993c"
      },
      "execution_count": 12,
      "outputs": [
        {
          "output_type": "stream",
          "name": "stdout",
          "text": [
            "Chi2 Stat: 0.6464646464646464\n",
            "p-value: 0.4213795037428696\n"
          ]
        }
      ]
    },
    {
      "cell_type": "code",
      "source": [
        "print(\"Degrees of Freedom:\", dof)\n",
        "print(\"Expected Frequencies:\\n\", ex)"
      ],
      "metadata": {
        "colab": {
          "base_uri": "https://localhost:8080/"
        },
        "id": "8-y4vGIH7toJ",
        "outputId": "42a7ab7a-0b7d-47ed-eda0-abda33941c8e"
      },
      "execution_count": 13,
      "outputs": [
        {
          "output_type": "stream",
          "name": "stdout",
          "text": [
            "Degrees of Freedom: 1\n",
            "Expected Frequencies:\n",
            " [[22.5 27.5]\n",
            " [22.5 27.5]]\n"
          ]
        }
      ]
    }
  ]
}